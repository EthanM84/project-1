{
 "cells": [
  {
   "cell_type": "code",
   "execution_count": null,
   "id": "9babf79c-d702-4def-a6cb-1d0a46a6829e",
   "metadata": {},
   "outputs": [],
   "source": [
    "# Import dependencies\n",
    "import pandas as pd\n",
    "from pathlib import Path\n",
    "import matplotlib.pyplot as plt\n",
    "import numpy as np"
   ]
  },
  {
   "cell_type": "code",
   "execution_count": null,
   "id": "dab3ff67-aaa3-43ba-850d-a3db9c3a79ff",
   "metadata": {},
   "outputs": [],
   "source": [
    "# Save path to CSV file as variable\n",
    "data_file = Path(\"Resources/us_births_2016_2021.csv\")"
   ]
  },
  {
   "cell_type": "code",
   "execution_count": null,
   "id": "740b8587-4b0b-4611-b224-5c9efdb085de",
   "metadata": {},
   "outputs": [],
   "source": [
    "# Read CSV file using Pandas\n",
    "data_file_df = pd.read_csv(data_file)\n",
    "data_file_df"
   ]
  },
  {
   "cell_type": "code",
   "execution_count": null,
   "id": "0e126fd7-4c3c-42ce-9e7b-dbed4dc31b53",
   "metadata": {},
   "outputs": [],
   "source": [
    "data_file_df.head()"
   ]
  },
  {
   "cell_type": "code",
   "execution_count": null,
   "id": "0a944788-b2f5-4f6c-975f-552c02f4ace6",
   "metadata": {},
   "outputs": [],
   "source": [
    "# Info on each of the columns\n",
    "data_file_df.info()"
   ]
  },
  {
   "cell_type": "code",
   "execution_count": null,
   "id": "5902829e-a6b6-4262-b8d0-caf885394d1a",
   "metadata": {},
   "outputs": [],
   "source": [
    "# Find the average birth weight per state\n",
    "\n",
    "# Use .groupby to group states\n",
    "# Use .aggregate to find the mean birth weight for each state\n",
    "# Sort the values from least to greatest\n",
    "# Round values to nearest whole number\n",
    "avg_weight_df = data_file_df.groupby(\"State\").aggregate({\"Average Birth Weight (g)\": \"mean\"}).sort_values(by = \"Average Birth Weight (g)\", ascending = True).round()\n",
    "avg_weight_df"
   ]
  },
  {
   "cell_type": "code",
   "execution_count": null,
   "id": "80cbc71c-3629-4b8f-bb43-dd6dd5745e1e",
   "metadata": {},
   "outputs": [],
   "source": [
    "# Create bar graph visualizing filtered dataframe\n",
    "weight_chart = avg_weight_df.plot(kind = \"bar\", figsize = (18,9))\n",
    "plt.ylim(3125, 3375)\n",
    "\n",
    "# Set title and axes labels\n",
    "plt.title(\"Average Birth Weight (g) Per State\")\n",
    "plt.xlabel(\"State\")\n",
    "plt.ylabel(\"Average Birth Weight (g)\")\n",
    "\n",
    "# Adjust figure size\n",
    "plt.tight_layout()\n",
    "\n",
    "# Save and export figure to Images folder\n",
    "plt.savefig(\"Images/avg_weight_per_state.png\")\n",
    "\n",
    "# Show completed figure\n",
    "plt.show()"
   ]
  }
 ],
 "metadata": {
  "kernelspec": {
   "display_name": "Python 3 (ipykernel)",
   "language": "python",
   "name": "python3"
  },
  "language_info": {
   "codemirror_mode": {
    "name": "ipython",
    "version": 3
   },
   "file_extension": ".py",
   "mimetype": "text/x-python",
   "name": "python",
   "nbconvert_exporter": "python",
   "pygments_lexer": "ipython3",
   "version": "3.10.11"
  }
 },
 "nbformat": 4,
 "nbformat_minor": 5
}
