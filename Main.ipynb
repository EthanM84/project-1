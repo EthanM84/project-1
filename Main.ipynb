{
 "cells": [
  {
   "cell_type": "code",
   "execution_count": 1,
   "metadata": {
    "tags": []
   },
   "outputs": [
    {
     "data": {
      "text/html": [
       "<div>\n",
       "<style scoped>\n",
       "    .dataframe tbody tr th:only-of-type {\n",
       "        vertical-align: middle;\n",
       "    }\n",
       "\n",
       "    .dataframe tbody tr th {\n",
       "        vertical-align: top;\n",
       "    }\n",
       "\n",
       "    .dataframe thead th {\n",
       "        text-align: right;\n",
       "    }\n",
       "</style>\n",
       "<table border=\"1\" class=\"dataframe\">\n",
       "  <thead>\n",
       "    <tr style=\"text-align: right;\">\n",
       "      <th></th>\n",
       "      <th>State</th>\n",
       "      <th>State Abbreviation</th>\n",
       "      <th>Year</th>\n",
       "      <th>Gender</th>\n",
       "      <th>Education Level of Mother</th>\n",
       "      <th>Education Level Code</th>\n",
       "      <th>Number of Births</th>\n",
       "      <th>Average Age of Mother (years)</th>\n",
       "      <th>Average Birth Weight (g)</th>\n",
       "    </tr>\n",
       "  </thead>\n",
       "  <tbody>\n",
       "    <tr>\n",
       "      <th>0</th>\n",
       "      <td>Alabama</td>\n",
       "      <td>AL</td>\n",
       "      <td>2016</td>\n",
       "      <td>F</td>\n",
       "      <td>8th grade or less</td>\n",
       "      <td>1</td>\n",
       "      <td>1052</td>\n",
       "      <td>27.8</td>\n",
       "      <td>3116.9</td>\n",
       "    </tr>\n",
       "    <tr>\n",
       "      <th>1</th>\n",
       "      <td>Alabama</td>\n",
       "      <td>AL</td>\n",
       "      <td>2016</td>\n",
       "      <td>F</td>\n",
       "      <td>9th through 12th grade with no diploma</td>\n",
       "      <td>2</td>\n",
       "      <td>3436</td>\n",
       "      <td>24.1</td>\n",
       "      <td>3040.0</td>\n",
       "    </tr>\n",
       "    <tr>\n",
       "      <th>2</th>\n",
       "      <td>Alabama</td>\n",
       "      <td>AL</td>\n",
       "      <td>2016</td>\n",
       "      <td>F</td>\n",
       "      <td>High school graduate or GED completed</td>\n",
       "      <td>3</td>\n",
       "      <td>8777</td>\n",
       "      <td>25.4</td>\n",
       "      <td>3080.0</td>\n",
       "    </tr>\n",
       "    <tr>\n",
       "      <th>3</th>\n",
       "      <td>Alabama</td>\n",
       "      <td>AL</td>\n",
       "      <td>2016</td>\n",
       "      <td>F</td>\n",
       "      <td>Some college credit, but not a degree</td>\n",
       "      <td>4</td>\n",
       "      <td>6453</td>\n",
       "      <td>26.7</td>\n",
       "      <td>3121.9</td>\n",
       "    </tr>\n",
       "    <tr>\n",
       "      <th>4</th>\n",
       "      <td>Alabama</td>\n",
       "      <td>AL</td>\n",
       "      <td>2016</td>\n",
       "      <td>F</td>\n",
       "      <td>Associate degree (AA, AS)</td>\n",
       "      <td>5</td>\n",
       "      <td>2227</td>\n",
       "      <td>28.9</td>\n",
       "      <td>3174.3</td>\n",
       "    </tr>\n",
       "  </tbody>\n",
       "</table>\n",
       "</div>"
      ],
      "text/plain": [
       "     State State Abbreviation  Year Gender  \\\n",
       "0  Alabama                 AL  2016      F   \n",
       "1  Alabama                 AL  2016      F   \n",
       "2  Alabama                 AL  2016      F   \n",
       "3  Alabama                 AL  2016      F   \n",
       "4  Alabama                 AL  2016      F   \n",
       "\n",
       "                Education Level of Mother  Education Level Code  \\\n",
       "0                       8th grade or less                     1   \n",
       "1  9th through 12th grade with no diploma                     2   \n",
       "2   High school graduate or GED completed                     3   \n",
       "3   Some college credit, but not a degree                     4   \n",
       "4               Associate degree (AA, AS)                     5   \n",
       "\n",
       "   Number of Births  Average Age of Mother (years)  Average Birth Weight (g)  \n",
       "0              1052                           27.8                    3116.9  \n",
       "1              3436                           24.1                    3040.0  \n",
       "2              8777                           25.4                    3080.0  \n",
       "3              6453                           26.7                    3121.9  \n",
       "4              2227                           28.9                    3174.3  "
      ]
     },
     "execution_count": 1,
     "metadata": {},
     "output_type": "execute_result"
    }
   ],
   "source": [
    "import pandas as pd\n",
    "from pathlib import Path\n",
    "import matplotlib.pyplot as plt\n",
    "\n",
    "# Specify the path to your CSV file\n",
    "csv_file_path = 'resources/births_data.csv'\n",
    "\n",
    "# Read the CSV file into a DataFrame\n",
    "data_df = pd.read_csv(csv_file_path)\n",
    "\n",
    "# Print the DataFrame\n",
    "data_df.head()"
   ]
  },
  {
   "cell_type": "code",
   "execution_count": 2,
   "metadata": {},
   "outputs": [
    {
     "data": {
      "text/plain": [
       "State                             object\n",
       "State Abbreviation                object\n",
       "Year                               int64\n",
       "Gender                            object\n",
       "Education Level of Mother         object\n",
       "Education Level Code               int64\n",
       "Number of Births                   int64\n",
       "Average Age of Mother (years)    float64\n",
       "Average Birth Weight (g)         float64\n",
       "dtype: object"
      ]
     },
     "execution_count": 2,
     "metadata": {},
     "output_type": "execute_result"
    }
   ],
   "source": [
    "# Check the data types of each column\n",
    "data_df.dtypes"
   ]
  },
  {
   "cell_type": "code",
   "execution_count": 3,
   "metadata": {},
   "outputs": [
    {
     "data": {
      "text/plain": [
       "State                            0\n",
       "State Abbreviation               0\n",
       "Year                             0\n",
       "Gender                           0\n",
       "Education Level of Mother        0\n",
       "Education Level Code             0\n",
       "Number of Births                 0\n",
       "Average Age of Mother (years)    0\n",
       "Average Birth Weight (g)         0\n",
       "dtype: int64"
      ]
     },
     "execution_count": 3,
     "metadata": {},
     "output_type": "execute_result"
    }
   ],
   "source": [
    "# Check for missing values in each column\n",
    "data_df.isnull().sum()"
   ]
  },
  {
   "cell_type": "code",
   "execution_count": 4,
   "metadata": {},
   "outputs": [
    {
     "data": {
      "text/plain": [
       "0"
      ]
     },
     "execution_count": 4,
     "metadata": {},
     "output_type": "execute_result"
    }
   ],
   "source": [
    "# Check for duplicate rows\n",
    "data_df.duplicated().sum()"
   ]
  },
  {
   "cell_type": "code",
   "execution_count": 5,
   "metadata": {},
   "outputs": [
    {
     "data": {
      "text/html": [
       "<div>\n",
       "<style scoped>\n",
       "    .dataframe tbody tr th:only-of-type {\n",
       "        vertical-align: middle;\n",
       "    }\n",
       "\n",
       "    .dataframe tbody tr th {\n",
       "        vertical-align: top;\n",
       "    }\n",
       "\n",
       "    .dataframe thead th {\n",
       "        text-align: right;\n",
       "    }\n",
       "</style>\n",
       "<table border=\"1\" class=\"dataframe\">\n",
       "  <thead>\n",
       "    <tr style=\"text-align: right;\">\n",
       "      <th></th>\n",
       "      <th>Year</th>\n",
       "      <th>Education Level Code</th>\n",
       "      <th>Number of Births</th>\n",
       "      <th>Average Age of Mother (years)</th>\n",
       "      <th>Average Birth Weight (g)</th>\n",
       "    </tr>\n",
       "  </thead>\n",
       "  <tbody>\n",
       "    <tr>\n",
       "      <th>count</th>\n",
       "      <td>5496.000000</td>\n",
       "      <td>5496.000000</td>\n",
       "      <td>5496.000000</td>\n",
       "      <td>5496.000000</td>\n",
       "      <td>5496.000000</td>\n",
       "    </tr>\n",
       "    <tr>\n",
       "      <th>mean</th>\n",
       "      <td>2018.500728</td>\n",
       "      <td>3.026201</td>\n",
       "      <td>4115.443959</td>\n",
       "      <td>29.552274</td>\n",
       "      <td>3250.887627</td>\n",
       "    </tr>\n",
       "    <tr>\n",
       "      <th>std</th>\n",
       "      <td>1.707554</td>\n",
       "      <td>4.733406</td>\n",
       "      <td>6687.036797</td>\n",
       "      <td>2.779735</td>\n",
       "      <td>114.456090</td>\n",
       "    </tr>\n",
       "    <tr>\n",
       "      <th>min</th>\n",
       "      <td>2016.000000</td>\n",
       "      <td>-9.000000</td>\n",
       "      <td>10.000000</td>\n",
       "      <td>23.100000</td>\n",
       "      <td>2451.900000</td>\n",
       "    </tr>\n",
       "    <tr>\n",
       "      <th>25%</th>\n",
       "      <td>2017.000000</td>\n",
       "      <td>2.000000</td>\n",
       "      <td>559.000000</td>\n",
       "      <td>27.500000</td>\n",
       "      <td>3182.200000</td>\n",
       "    </tr>\n",
       "    <tr>\n",
       "      <th>50%</th>\n",
       "      <td>2019.000000</td>\n",
       "      <td>4.000000</td>\n",
       "      <td>1692.000000</td>\n",
       "      <td>29.600000</td>\n",
       "      <td>3256.000000</td>\n",
       "    </tr>\n",
       "    <tr>\n",
       "      <th>75%</th>\n",
       "      <td>2020.000000</td>\n",
       "      <td>6.000000</td>\n",
       "      <td>5140.000000</td>\n",
       "      <td>31.800000</td>\n",
       "      <td>3330.825000</td>\n",
       "    </tr>\n",
       "    <tr>\n",
       "      <th>max</th>\n",
       "      <td>2021.000000</td>\n",
       "      <td>8.000000</td>\n",
       "      <td>59967.000000</td>\n",
       "      <td>35.500000</td>\n",
       "      <td>3585.700000</td>\n",
       "    </tr>\n",
       "  </tbody>\n",
       "</table>\n",
       "</div>"
      ],
      "text/plain": [
       "              Year  Education Level Code  Number of Births  \\\n",
       "count  5496.000000           5496.000000       5496.000000   \n",
       "mean   2018.500728              3.026201       4115.443959   \n",
       "std       1.707554              4.733406       6687.036797   \n",
       "min    2016.000000             -9.000000         10.000000   \n",
       "25%    2017.000000              2.000000        559.000000   \n",
       "50%    2019.000000              4.000000       1692.000000   \n",
       "75%    2020.000000              6.000000       5140.000000   \n",
       "max    2021.000000              8.000000      59967.000000   \n",
       "\n",
       "       Average Age of Mother (years)  Average Birth Weight (g)  \n",
       "count                    5496.000000               5496.000000  \n",
       "mean                       29.552274               3250.887627  \n",
       "std                         2.779735                114.456090  \n",
       "min                        23.100000               2451.900000  \n",
       "25%                        27.500000               3182.200000  \n",
       "50%                        29.600000               3256.000000  \n",
       "75%                        31.800000               3330.825000  \n",
       "max                        35.500000               3585.700000  "
      ]
     },
     "execution_count": 5,
     "metadata": {},
     "output_type": "execute_result"
    }
   ],
   "source": [
    "# Perform summary statistics on numeric columns\n",
    "data_df.describe()"
   ]
  },
  {
   "cell_type": "code",
   "execution_count": 6,
   "metadata": {},
   "outputs": [
    {
     "data": {
      "text/plain": [
       "M    2749\n",
       "F    2747\n",
       "Name: Gender, dtype: int64"
      ]
     },
     "execution_count": 6,
     "metadata": {},
     "output_type": "execute_result"
    }
   ],
   "source": [
    "# Perform value counts on categorical columns\n",
    "data_df['State'].value_counts()\n",
    "data_df['Gender'].value_counts()"
   ]
  },
  {
   "cell_type": "code",
   "execution_count": 7,
   "metadata": {},
   "outputs": [
    {
     "data": {
      "image/png": "[encoded data removed]",
      "text/plain": [
       "<Figure size 640x480 with 1 Axes>"
      ]
     },
     "metadata": {},
     "output_type": "display_data"
    },
    {
     "data": {
      "image/png": "[encoded data removed]",
      "text/plain": [
       "<Figure size 640x480 with 1 Axes>"
      ]
     },
     "metadata": {},
     "output_type": "display_data"
    }
   ],
   "source": [
    "# Plot histograms of numeric columns\n",
    "data_df['Average Age of Mother (years)'].hist()\n",
    "plt.xlabel('Average Age of Mother (years)')\n",
    "plt.ylabel('Frequency')\n",
    "plt.title('Distribution of Average Age of Mother')\n",
    "plt.show()\n",
    "\n",
    "data_df['Average Birth Weight (g)'].hist()\n",
    "plt.xlabel('Average Birth Weight (g)')\n",
    "plt.ylabel('Frequency')\n",
    "plt.title('Distribution of Average Birth Weight')\n",
    "plt.show()"
   ]
  },
  {
   "cell_type": "code",
   "execution_count": 8,
   "metadata": {},
   "outputs": [
    {
     "data": {
      "text/plain": [
       "State                            5496\n",
       "State Abbreviation               5496\n",
       "Year                             5496\n",
       "Gender                           5496\n",
       "Education Level of Mother        5496\n",
       "Education Level Code             5496\n",
       "Number of Births                 5496\n",
       "Average Age of Mother (years)    5496\n",
       "Average Birth Weight (g)         5496\n",
       "dtype: int64"
      ]
     },
     "execution_count": 8,
     "metadata": {},
     "output_type": "execute_result"
    }
   ],
   "source": [
    "# Count the total number of columns entries in the DataFrame\n",
    "column_entries_count = data_df.count()\n",
    "\n",
    "column_entries_count"
   ]
  },
  {
   "cell_type": "code",
   "execution_count": 9,
   "metadata": {},
   "outputs": [
    {
     "data": {
      "text/plain": [
       "Gender\n",
       "F    7.042824\n",
       "M    7.291029\n",
       "Name: Average Birth Weight (LB), dtype: float64"
      ]
     },
     "execution_count": 9,
     "metadata": {},
     "output_type": "execute_result"
    }
   ],
   "source": [
    "# Calculate the average weight per gender\n",
    "average_weight_per_gender = data_df.groupby('Gender')['Average Birth Weight (g)'].mean()* 0.00220462\n",
    "\n",
    "# Rename the column to 'Average Birth Weight (LB)'\n",
    "average_weight_per_gender = average_weight_per_gender.rename('Average Birth Weight (LB)')\n",
    "average_weight_per_gender"
   ]
  },
  {
   "cell_type": "code",
   "execution_count": 10,
   "metadata": {},
   "outputs": [
    {
     "data": {
      "image/png": "[encoded data removed]",
      "text/plain": [
       "<Figure size 600x500 with 1 Axes>"
      ]
     },
     "metadata": {},
     "output_type": "display_data"
    }
   ],
   "source": [
    "# Visualize the average weight per gender using a bar plot\n",
    "plt.figure(figsize=(6, 5))\n",
    "ax = average_weight_per_gender.plot(x='Gender', y='Average Birth Weight (g)', kind='bar', color=['pink', 'blue'])\n",
    "\n",
    "average_weight_per_gender.plot(x='Gender', y='Average Birth Weight (g)', kind='bar', color=['pink', 'blue'])\n",
    "plt.xlabel('Gender')\n",
    "plt.ylabel('Average Birth Weight (LB)')\n",
    "plt.title('Average Birth Weight per Gender')\n",
    "plt.tight_layout()\n",
    "plt.xticks(rotation=360)\n",
    "\n",
    "# Add value labels on top of each bar\n",
    "for p in ax.patches:\n",
    "    ax.annotate(f'{p.get_height():.1f}', (p.get_x() + p.get_width() / 2., p.get_height()), ha='center', va='bottom')\n",
    "\n",
    "# Save the figure\n",
    "plt.savefig('Output/average_weight_per_gender.png')\n",
    "\n",
    "plt.show()"
   ]
  },
  {
   "cell_type": "code",
   "execution_count": null,
   "metadata": {},
   "outputs": [],
   "source": []
  }
 ],
 "metadata": {
  "kernelspec": {
   "display_name": "Python 3 (ipykernel)",
   "language": "python",
   "name": "python3"
  },
  "language_info": {
   "codemirror_mode": {
    "name": "ipython",
    "version": 3
   },
   "file_extension": ".py",
   "mimetype": "text/x-python",
   "name": "python",
   "nbconvert_exporter": "python",
   "pygments_lexer": "ipython3",
   "version": "3.9.16"
  },
  "latex_envs": {
   "LaTeX_envs_menu_present": true,
   "autoclose": false,
   "autocomplete": true,
   "bibliofile": "biblio.bib",
   "cite_by": "apalike",
   "current_citInitial": 1,
   "eqLabelWithNumbers": true,
   "eqNumInitial": 1,
   "hotkeys": {
    "equation": "Ctrl-E",
    "itemize": "Ctrl-I"
   },
   "labels_anchors": false,
   "latex_user_defs": false,
   "report_style_numbering": false,
   "user_envs_cfg": false
  }
 },
 "nbformat": 4,
 "nbformat_minor": 4
}
